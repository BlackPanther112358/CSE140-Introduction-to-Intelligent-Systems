{
  "nbformat": 4,
  "nbformat_minor": 0,
  "metadata": {
    "colab": {
      "name": "Ass3Q2.ipynb",
      "provenance": []
    },
    "kernelspec": {
      "name": "python3",
      "display_name": "Python 3"
    },
    "language_info": {
      "name": "python"
    }
  },
  "cells": [
    {
      "cell_type": "code",
      "execution_count": 51,
      "metadata": {
        "id": "2xE-47agtPha"
      },
      "outputs": [],
      "source": [
        "import pandas as pd\n",
        "import numpy as np\n",
        "from sklearn.linear_model import LinearRegression"
      ]
    },
    {
      "cell_type": "code",
      "source": [
        "dataset = pd.read_csv('Q2_insurance_dataset.csv')\n",
        "dataset"
      ],
      "metadata": {
        "id": "fbzyyNJ5IaNN",
        "colab": {
          "base_uri": "https://localhost:8080/",
          "height": 424
        },
        "outputId": "74addecf-e46d-4b82-95df-dd3a40c73669"
      },
      "execution_count": 52,
      "outputs": [
        {
          "output_type": "execute_result",
          "data": {
            "text/plain": [
              "      age     sex     bmi  children smoker     region      charges\n",
              "0      19  female  27.900         0    yes  southwest  16884.92400\n",
              "1      18    male  33.770         1     no  southeast   1725.55230\n",
              "2      28    male  33.000         3     no  southeast   4449.46200\n",
              "3      33    male  22.705         0     no  northwest  21984.47061\n",
              "4      32    male  28.880         0     no  northwest   3866.85520\n",
              "...   ...     ...     ...       ...    ...        ...          ...\n",
              "1333   50    male  30.970         3     no  northwest  10600.54830\n",
              "1334   18  female  31.920         0     no  northeast   2205.98080\n",
              "1335   18  female  36.850         0     no  southeast   1629.83350\n",
              "1336   21  female  25.800         0     no  southwest   2007.94500\n",
              "1337   61  female  29.070         0    yes  northwest  29141.36030\n",
              "\n",
              "[1338 rows x 7 columns]"
            ],
            "text/html": [
              "\n",
              "  <div id=\"df-6c5879f5-5b9f-4fab-ba4c-a43e28fa43d2\">\n",
              "    <div class=\"colab-df-container\">\n",
              "      <div>\n",
              "<style scoped>\n",
              "    .dataframe tbody tr th:only-of-type {\n",
              "        vertical-align: middle;\n",
              "    }\n",
              "\n",
              "    .dataframe tbody tr th {\n",
              "        vertical-align: top;\n",
              "    }\n",
              "\n",
              "    .dataframe thead th {\n",
              "        text-align: right;\n",
              "    }\n",
              "</style>\n",
              "<table border=\"1\" class=\"dataframe\">\n",
              "  <thead>\n",
              "    <tr style=\"text-align: right;\">\n",
              "      <th></th>\n",
              "      <th>age</th>\n",
              "      <th>sex</th>\n",
              "      <th>bmi</th>\n",
              "      <th>children</th>\n",
              "      <th>smoker</th>\n",
              "      <th>region</th>\n",
              "      <th>charges</th>\n",
              "    </tr>\n",
              "  </thead>\n",
              "  <tbody>\n",
              "    <tr>\n",
              "      <th>0</th>\n",
              "      <td>19</td>\n",
              "      <td>female</td>\n",
              "      <td>27.900</td>\n",
              "      <td>0</td>\n",
              "      <td>yes</td>\n",
              "      <td>southwest</td>\n",
              "      <td>16884.92400</td>\n",
              "    </tr>\n",
              "    <tr>\n",
              "      <th>1</th>\n",
              "      <td>18</td>\n",
              "      <td>male</td>\n",
              "      <td>33.770</td>\n",
              "      <td>1</td>\n",
              "      <td>no</td>\n",
              "      <td>southeast</td>\n",
              "      <td>1725.55230</td>\n",
              "    </tr>\n",
              "    <tr>\n",
              "      <th>2</th>\n",
              "      <td>28</td>\n",
              "      <td>male</td>\n",
              "      <td>33.000</td>\n",
              "      <td>3</td>\n",
              "      <td>no</td>\n",
              "      <td>southeast</td>\n",
              "      <td>4449.46200</td>\n",
              "    </tr>\n",
              "    <tr>\n",
              "      <th>3</th>\n",
              "      <td>33</td>\n",
              "      <td>male</td>\n",
              "      <td>22.705</td>\n",
              "      <td>0</td>\n",
              "      <td>no</td>\n",
              "      <td>northwest</td>\n",
              "      <td>21984.47061</td>\n",
              "    </tr>\n",
              "    <tr>\n",
              "      <th>4</th>\n",
              "      <td>32</td>\n",
              "      <td>male</td>\n",
              "      <td>28.880</td>\n",
              "      <td>0</td>\n",
              "      <td>no</td>\n",
              "      <td>northwest</td>\n",
              "      <td>3866.85520</td>\n",
              "    </tr>\n",
              "    <tr>\n",
              "      <th>...</th>\n",
              "      <td>...</td>\n",
              "      <td>...</td>\n",
              "      <td>...</td>\n",
              "      <td>...</td>\n",
              "      <td>...</td>\n",
              "      <td>...</td>\n",
              "      <td>...</td>\n",
              "    </tr>\n",
              "    <tr>\n",
              "      <th>1333</th>\n",
              "      <td>50</td>\n",
              "      <td>male</td>\n",
              "      <td>30.970</td>\n",
              "      <td>3</td>\n",
              "      <td>no</td>\n",
              "      <td>northwest</td>\n",
              "      <td>10600.54830</td>\n",
              "    </tr>\n",
              "    <tr>\n",
              "      <th>1334</th>\n",
              "      <td>18</td>\n",
              "      <td>female</td>\n",
              "      <td>31.920</td>\n",
              "      <td>0</td>\n",
              "      <td>no</td>\n",
              "      <td>northeast</td>\n",
              "      <td>2205.98080</td>\n",
              "    </tr>\n",
              "    <tr>\n",
              "      <th>1335</th>\n",
              "      <td>18</td>\n",
              "      <td>female</td>\n",
              "      <td>36.850</td>\n",
              "      <td>0</td>\n",
              "      <td>no</td>\n",
              "      <td>southeast</td>\n",
              "      <td>1629.83350</td>\n",
              "    </tr>\n",
              "    <tr>\n",
              "      <th>1336</th>\n",
              "      <td>21</td>\n",
              "      <td>female</td>\n",
              "      <td>25.800</td>\n",
              "      <td>0</td>\n",
              "      <td>no</td>\n",
              "      <td>southwest</td>\n",
              "      <td>2007.94500</td>\n",
              "    </tr>\n",
              "    <tr>\n",
              "      <th>1337</th>\n",
              "      <td>61</td>\n",
              "      <td>female</td>\n",
              "      <td>29.070</td>\n",
              "      <td>0</td>\n",
              "      <td>yes</td>\n",
              "      <td>northwest</td>\n",
              "      <td>29141.36030</td>\n",
              "    </tr>\n",
              "  </tbody>\n",
              "</table>\n",
              "<p>1338 rows × 7 columns</p>\n",
              "</div>\n",
              "      <button class=\"colab-df-convert\" onclick=\"convertToInteractive('df-6c5879f5-5b9f-4fab-ba4c-a43e28fa43d2')\"\n",
              "              title=\"Convert this dataframe to an interactive table.\"\n",
              "              style=\"display:none;\">\n",
              "        \n",
              "  <svg xmlns=\"http://www.w3.org/2000/svg\" height=\"24px\"viewBox=\"0 0 24 24\"\n",
              "       width=\"24px\">\n",
              "    <path d=\"M0 0h24v24H0V0z\" fill=\"none\"/>\n",
              "    <path d=\"M18.56 5.44l.94 2.06.94-2.06 2.06-.94-2.06-.94-.94-2.06-.94 2.06-2.06.94zm-11 1L8.5 8.5l.94-2.06 2.06-.94-2.06-.94L8.5 2.5l-.94 2.06-2.06.94zm10 10l.94 2.06.94-2.06 2.06-.94-2.06-.94-.94-2.06-.94 2.06-2.06.94z\"/><path d=\"M17.41 7.96l-1.37-1.37c-.4-.4-.92-.59-1.43-.59-.52 0-1.04.2-1.43.59L10.3 9.45l-7.72 7.72c-.78.78-.78 2.05 0 2.83L4 21.41c.39.39.9.59 1.41.59.51 0 1.02-.2 1.41-.59l7.78-7.78 2.81-2.81c.8-.78.8-2.07 0-2.86zM5.41 20L4 18.59l7.72-7.72 1.47 1.35L5.41 20z\"/>\n",
              "  </svg>\n",
              "      </button>\n",
              "      \n",
              "  <style>\n",
              "    .colab-df-container {\n",
              "      display:flex;\n",
              "      flex-wrap:wrap;\n",
              "      gap: 12px;\n",
              "    }\n",
              "\n",
              "    .colab-df-convert {\n",
              "      background-color: #E8F0FE;\n",
              "      border: none;\n",
              "      border-radius: 50%;\n",
              "      cursor: pointer;\n",
              "      display: none;\n",
              "      fill: #1967D2;\n",
              "      height: 32px;\n",
              "      padding: 0 0 0 0;\n",
              "      width: 32px;\n",
              "    }\n",
              "\n",
              "    .colab-df-convert:hover {\n",
              "      background-color: #E2EBFA;\n",
              "      box-shadow: 0px 1px 2px rgba(60, 64, 67, 0.3), 0px 1px 3px 1px rgba(60, 64, 67, 0.15);\n",
              "      fill: #174EA6;\n",
              "    }\n",
              "\n",
              "    [theme=dark] .colab-df-convert {\n",
              "      background-color: #3B4455;\n",
              "      fill: #D2E3FC;\n",
              "    }\n",
              "\n",
              "    [theme=dark] .colab-df-convert:hover {\n",
              "      background-color: #434B5C;\n",
              "      box-shadow: 0px 1px 3px 1px rgba(0, 0, 0, 0.15);\n",
              "      filter: drop-shadow(0px 1px 2px rgba(0, 0, 0, 0.3));\n",
              "      fill: #FFFFFF;\n",
              "    }\n",
              "  </style>\n",
              "\n",
              "      <script>\n",
              "        const buttonEl =\n",
              "          document.querySelector('#df-6c5879f5-5b9f-4fab-ba4c-a43e28fa43d2 button.colab-df-convert');\n",
              "        buttonEl.style.display =\n",
              "          google.colab.kernel.accessAllowed ? 'block' : 'none';\n",
              "\n",
              "        async function convertToInteractive(key) {\n",
              "          const element = document.querySelector('#df-6c5879f5-5b9f-4fab-ba4c-a43e28fa43d2');\n",
              "          const dataTable =\n",
              "            await google.colab.kernel.invokeFunction('convertToInteractive',\n",
              "                                                     [key], {});\n",
              "          if (!dataTable) return;\n",
              "\n",
              "          const docLinkHtml = 'Like what you see? Visit the ' +\n",
              "            '<a target=\"_blank\" href=https://colab.research.google.com/notebooks/data_table.ipynb>data table notebook</a>'\n",
              "            + ' to learn more about interactive tables.';\n",
              "          element.innerHTML = '';\n",
              "          dataTable['output_type'] = 'display_data';\n",
              "          await google.colab.output.renderOutput(dataTable, element);\n",
              "          const docLink = document.createElement('div');\n",
              "          docLink.innerHTML = docLinkHtml;\n",
              "          element.appendChild(docLink);\n",
              "        }\n",
              "      </script>\n",
              "    </div>\n",
              "  </div>\n",
              "  "
            ]
          },
          "metadata": {},
          "execution_count": 52
        }
      ]
    },
    {
      "cell_type": "code",
      "source": [
        "sex = {'male':0, 'female':1}\n",
        "smoker = {'yes':1, 'no':0}\n",
        "region = {'southwest':0, 'southeast':1, 'northwest':2, 'northeast':3}\n",
        "for i in range(len(dataset)):\n",
        "  dataset['sex'][i] = sex[dataset['sex'][i]]\n",
        "  dataset['smoker'][i] = smoker[dataset['smoker'][i]]\n",
        "  dataset['region'][i] = region[dataset['region'][i]]\n",
        "# dataset.head()"
      ],
      "metadata": {
        "colab": {
          "base_uri": "https://localhost:8080/"
        },
        "id": "T44b9bX5lIOU",
        "outputId": "ee866a2b-6aba-4573-fbe6-4f0895172bb1"
      },
      "execution_count": 53,
      "outputs": [
        {
          "output_type": "stream",
          "name": "stderr",
          "text": [
            "/usr/local/lib/python3.7/dist-packages/ipykernel_launcher.py:5: SettingWithCopyWarning: \n",
            "A value is trying to be set on a copy of a slice from a DataFrame\n",
            "\n",
            "See the caveats in the documentation: https://pandas.pydata.org/pandas-docs/stable/user_guide/indexing.html#returning-a-view-versus-a-copy\n",
            "  \"\"\"\n",
            "/usr/local/lib/python3.7/dist-packages/ipykernel_launcher.py:6: SettingWithCopyWarning: \n",
            "A value is trying to be set on a copy of a slice from a DataFrame\n",
            "\n",
            "See the caveats in the documentation: https://pandas.pydata.org/pandas-docs/stable/user_guide/indexing.html#returning-a-view-versus-a-copy\n",
            "  \n",
            "/usr/local/lib/python3.7/dist-packages/ipykernel_launcher.py:7: SettingWithCopyWarning: \n",
            "A value is trying to be set on a copy of a slice from a DataFrame\n",
            "\n",
            "See the caveats in the documentation: https://pandas.pydata.org/pandas-docs/stable/user_guide/indexing.html#returning-a-view-versus-a-copy\n",
            "  import sys\n"
          ]
        }
      ]
    },
    {
      "cell_type": "code",
      "source": [
        "from sklearn.model_selection import train_test_split\n",
        "\n",
        "y = dataset['charges']\n",
        "x = dataset.drop(['charges'], axis=1)\n",
        "x_train, x_test, y_train, y_test = train_test_split(x, y, test_size=0.20, random_state=42)"
      ],
      "metadata": {
        "id": "Py5pcyDOLA7i"
      },
      "execution_count": 54,
      "outputs": []
    },
    {
      "cell_type": "code",
      "source": [
        "model = LinearRegression()\n",
        "model.fit(x_train, y_train)"
      ],
      "metadata": {
        "colab": {
          "base_uri": "https://localhost:8080/"
        },
        "id": "WinKsO0wkUJY",
        "outputId": "bdd21af0-2547-42bb-cc52-d9b4b8090be4"
      },
      "execution_count": 55,
      "outputs": [
        {
          "output_type": "execute_result",
          "data": {
            "text/plain": [
              "LinearRegression()"
            ]
          },
          "metadata": {},
          "execution_count": 55
        }
      ]
    },
    {
      "cell_type": "code",
      "source": [
        "y_true =  y_test.values.tolist()\n",
        "y_pred = model.predict(x_test)\n",
        "y_pred"
      ],
      "metadata": {
        "colab": {
          "base_uri": "https://localhost:8080/"
        },
        "id": "ERWuQzhZs-fW",
        "outputId": "dc8c541c-df52-4012-9eeb-2c7cafb36d9d"
      },
      "execution_count": 56,
      "outputs": [
        {
          "output_type": "execute_result",
          "data": {
            "text/plain": [
              "array([ 8924.40724442,  7116.29501758, 36909.01352144,  9507.87469118,\n",
              "       27013.3500079 , 10790.77956153,   226.29844571, 16942.71599941,\n",
              "        1056.63079407, 11267.91997309, 28048.59793155,  9424.36324087,\n",
              "        5326.32232088, 38460.06017922, 40303.40597026, 37147.01010262,\n",
              "       15287.91876684, 35965.05485917,  9179.1753067 , 31510.8319849 ,\n",
              "        3797.79068365, 10070.82803304,  2312.57551348,  7074.41348194,\n",
              "       11352.37224357, 12907.77079523, 14448.84678727,  6205.65997921,\n",
              "        9917.00839638,  2239.50032819,  9060.55469043, 13120.56214535,\n",
              "        4617.70702822,  3467.91218926,  4402.74821855, 12967.91608907,\n",
              "        1927.44498944,  8757.9180081 , 33324.35180597, 32638.47697026,\n",
              "        3852.41756615,  4370.39670883, 14080.76023234, 11478.63402576,\n",
              "        8829.26135924, 12046.15119133,  5322.80515731,  3100.71182484,\n",
              "       35546.60547574,  9201.61196817, 15894.23763341,  2406.04003607,\n",
              "       12397.52052544,  1433.90617387, 13448.14094304, 12519.54174599,\n",
              "        4295.28664609, 32202.67982224, 13263.171278  , 12842.10998145,\n",
              "       14111.93665793, 10551.59361363, 16298.16745307,  7818.15570419,\n",
              "       11787.5726767 ,  4113.26897366, 26596.69895299, 10998.86488364,\n",
              "        2193.72748353,  6139.35587246, 10668.53569182, 11573.9066314 ,\n",
              "       11041.12265049,  9226.58405681, 12007.44404757,  6811.43260247,\n",
              "        7191.83534635, 10790.05517482,  6639.37239748,  8711.93118512,\n",
              "        3824.75581175, 36583.59532017,  6321.81241487, 30776.79577931,\n",
              "       34875.57159272, 35221.47920524,  7079.6173919 , 12906.65057781,\n",
              "        9989.1664665 , 14409.60808941, 17632.66059003, 35329.860348  ,\n",
              "       32980.23882829,  6136.20837946, 32051.98799937,  9422.40290935,\n",
              "       29504.90196714,  3732.73937642, 28359.80070947,  5779.65825838,\n",
              "        5456.76178371,  1827.69473369, 11549.90308087, 15012.88613485,\n",
              "       11657.94522782,  4363.64612857,  9957.82591489, 31781.66667504,\n",
              "        -129.15666671, 32890.39693986,  3219.18553916, 10224.50053069,\n",
              "       14265.38958083, 31584.36114122, 11409.59610007,  3867.75510966,\n",
              "       13059.64952969, 31756.32678896,  8214.15949009,  3287.68482341,\n",
              "        8383.13242816, 10636.53442336, 15157.79567852,  5702.50803854,\n",
              "        3836.57711344, 10272.53498033, 10956.58803242, 11071.81222693,\n",
              "       14496.65293874,  7476.92979541,  5450.7838718 ,  9288.29781036,\n",
              "        9399.10130723, 12476.31967945,  8278.36782145, 15269.65350487,\n",
              "        8352.0773264 , 31738.37507699, 35819.0919374 , 31547.64757647,\n",
              "        6063.62004331, 12551.29214568,  6068.87670979, 14599.41823771,\n",
              "        2561.45561332, 32910.51327403,  6315.23815745,  4979.52619562,\n",
              "       14384.66253028,  6884.14533684, 38706.08936188,  3136.57875731,\n",
              "        5933.09672913, 31625.64350684, 11596.31482335,  8417.73814018,\n",
              "       14754.03399782,  9879.46313846, 27160.43717287, 33395.00044119,\n",
              "       14499.08558691,  1735.96411757, 13118.53913261,  2176.90038413,\n",
              "        5388.3723652 , 11622.93526416, 39740.86555088, 36545.08554993,\n",
              "       33944.7368711 ,  3840.12640295,  7412.53476742,  8602.72483011,\n",
              "       12382.55575653,  4865.6463079 ,  1994.45684083, 32178.79507351,\n",
              "       25053.78358388, 17536.06907271, 26471.06879885, 10217.73115571,\n",
              "       37210.3346986 ,  -477.16780371,  6841.29733603,  7720.38130108,\n",
              "        4324.62825932,  5148.0933114 ,  5866.88847075,  4252.37584458,\n",
              "       15235.17791982, 11184.09152901,  6865.81092558,  2473.47336319,\n",
              "        1492.04619416, 31876.36248207, 16467.91708528, 12070.84318949,\n",
              "        1321.2739762 , 12481.98404136,  1516.49611385,  8688.35998638,\n",
              "        1929.99456629, 33965.04310923, 10902.16179703,  2652.65198314,\n",
              "       25737.23494393, 26409.75401731,  9484.12006941,  1858.05146312,\n",
              "       13312.36096237,  1075.29369445, 10343.96143124, 10640.16353845,\n",
              "       16869.18074438, 26909.56154116,  7008.93073183,  5143.45838554,\n",
              "        5911.31580735, 13297.21771797, 11170.92069347,  8419.97039114,\n",
              "        5174.40556158, 12343.87783448, 13902.30234269, 35823.29733596,\n",
              "        4200.49918603, 28974.98455685,  -959.29164157,  2918.94252879,\n",
              "       11110.5125204 , 15731.80607464,  5263.76292369,  6952.83452504,\n",
              "        3804.57987076, 31256.71206045,  7305.58851362, 12461.33830574,\n",
              "        5664.21701114,  9467.26109398, 36360.68777321,  4486.61219507,\n",
              "        9633.32288878, 31093.62476199,  5787.94047478,  4665.96142198,\n",
              "        1100.68575505,  4877.83258252,  4521.289931  ,  6448.7580369 ,\n",
              "       18700.99259398, -1483.15281815,  2319.79804103, 10631.36072374,\n",
              "        3100.2784844 , 10170.02300527,  3777.51558282,  5184.56040253,\n",
              "       12348.21008641,  6259.90128781,  8190.47916435,  7537.06854145,\n",
              "        8973.20505699, 10544.17289411, 27868.40112099, 39116.96866869,\n",
              "       11814.55556842,  7638.1077356 , 40959.08172164, 12258.22852853])"
            ]
          },
          "metadata": {},
          "execution_count": 56
        }
      ]
    },
    {
      "cell_type": "code",
      "source": [
        "from sklearn.metrics import accuracy_score, r2_score, mean_squared_error, mean_absolute_error\n",
        "# print(accuracy_score(y_pred, y_true))\n",
        "print(r2_score(y_pred, y_true))\n",
        "print(mean_absolute_error(y_pred, y_true))\n",
        "print(mean_squared_error(y_pred, y_true))"
      ],
      "metadata": {
        "colab": {
          "base_uri": "https://localhost:8080/"
        },
        "id": "DMDgtP0mtgo-",
        "outputId": "fa11681d-19c7-4cb9-e615-2644dabea5fb"
      },
      "execution_count": 58,
      "outputs": [
        {
          "output_type": "stream",
          "name": "stdout",
          "text": [
            "0.7086166433516322\n",
            "4186.508898366435\n",
            "33635210.431178406\n"
          ]
        }
      ]
    }
  ]
}